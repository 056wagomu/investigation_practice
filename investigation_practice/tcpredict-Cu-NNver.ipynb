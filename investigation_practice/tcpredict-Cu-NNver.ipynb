{
 "cells": [
  {
   "cell_type": "code",
   "execution_count": null,
   "id": "0adb5c42-1cc3-484d-9596-1990eebda5e7",
   "metadata": {
    "tags": []
   },
   "outputs": [],
   "source": [
    "#ライブラリ読み込み\n",
    "#データ読み込み\n",
    "import tensorflow as tf\n",
    "import numpy as np\n",
    "import pandas as pd\n",
    "from sklearn.model_selection import train_test_split\n",
    "from sys import argv\n",
    "import joblib\n",
    "from datetime import datetime, time\n",
    "\n",
    "pd.set_option('display.max_columns',200)\n",
    "pd.set_option(\"display.max_rows\", 200)\n",
    "\n",
    "import matplotlib.pyplot as plt\n",
    "import seaborn as sns\n",
    "\n",
    "\n",
    "#スペースアリはYとS\n",
    "#大文字被りがLI\n",
    "#原子の数が0になっているのが複数あったので消去\n",
    "#Yoという謎原子があったので消去\n",
    "#O6050という異常値があるがデータ生成の段階では影響がないと判断\n",
    "#Nd185があったのでNd1.85に訂正(周囲にNd1.85のデータがあったため)\n",
    "#O1013があったのでO10.13に訂正(周囲にO10.XXのデータがあったため)\n",
    "#Cu285があったのでCu2.85に訂正(周囲にCu2.85のデータがあったため)"
   ]
  },
  {
   "cell_type": "code",
   "execution_count": null,
   "id": "21951f96-3719-4e3d-aaf7-723525737295",
   "metadata": {},
   "outputs": [],
   "source": [
    "alldataCu = pd.read_pickle(\"alldataCu.pkl\")"
   ]
  },
  {
   "cell_type": "code",
   "execution_count": null,
   "id": "2091b251-1f20-4004-ac2d-048b716686bb",
   "metadata": {
    "tags": []
   },
   "outputs": [],
   "source": [
    "lenofcolumns = len(alldataCu.columns)"
   ]
  },
  {
   "cell_type": "code",
   "execution_count": null,
   "id": "c3973332-a813-4a48-955e-d361e871e150",
   "metadata": {
    "tags": []
   },
   "outputs": [],
   "source": [
    "alldataCu_X = alldataCu.iloc[:, :lenofcolumns - 1]\n",
    "alldataCu_y = alldataCu.filter([\"tc\"]).values\n",
    "display(alldataCu_X)\n",
    "print(alldataCu_y)"
   ]
  },
  {
   "cell_type": "code",
   "execution_count": null,
   "id": "d2b54f92-fcd7-4ca3-99c1-919829194932",
   "metadata": {
    "tags": []
   },
   "outputs": [],
   "source": [
    "#説明変数の正規化\n",
    "#なお、銅酸化物系はすべて酸素を含んでいるのでOarinashi列を削除\n",
    "#その後に、欠損値全てを0で補完\n",
    "alldataCu_X = alldataCu_X.drop([\"Oarinashi\"], axis = \"columns\")\n",
    "\n",
    "# axis=columns で、列ではなく行単位で正規化に変更可能\n",
    "scaled_alldataCu_X = alldataCu_X.apply(lambda x: (x-x.min())/(x.max() - x.min()), axis=\"index\")\n",
    "scaled_alldataCu_X = scaled_alldataCu_X.fillna(0)\n",
    "display(scaled_alldataCu_X)"
   ]
  },
  {
   "cell_type": "code",
   "execution_count": null,
   "id": "86e94472-db8c-4a91-a962-4ac05d492dc4",
   "metadata": {
    "tags": []
   },
   "outputs": [],
   "source": [
    "#目的変数の正規化\n",
    "from sklearn.preprocessing import MinMaxScaler\n",
    "yscaler=MinMaxScaler(feature_range=(0,1))\n",
    "scaled_alldataCu_y = yscaler.fit_transform(alldataCu_y)\n",
    "print(scaled_alldataCu_y)"
   ]
  },
  {
   "cell_type": "code",
   "execution_count": null,
   "id": "3ac33637-6639-49cf-9120-2cf722540a4f",
   "metadata": {
    "tags": []
   },
   "outputs": [],
   "source": [
    "#全体の行数を確認 80%をトレーニングデータに\n",
    "training_size = int(scaled_alldataCu_X.shape[0] * 0.80)\n",
    "print(\"training size:\",training_size)"
   ]
  },
  {
   "cell_type": "code",
   "execution_count": null,
   "id": "3f73543a-27fe-49ac-8eec-298a44f976ca",
   "metadata": {
    "tags": []
   },
   "outputs": [],
   "source": [
    "#トレーニングデータの大きさチェック\n",
    "trainx_df = scaled_alldataCu_X.iloc[0:training_size, :]\n",
    "y_train = scaled_alldataCu_y[0:training_size, :]\n",
    "print(len(trainx_df))\n",
    "print(len(y_train))"
   ]
  },
  {
   "cell_type": "code",
   "execution_count": null,
   "id": "b1332172-9d42-48ce-a769-625948140437",
   "metadata": {
    "tags": []
   },
   "outputs": [],
   "source": [
    "#テストデータの大きさチェック\n",
    "testx_df = scaled_alldataCu_X.iloc[training_size:, :]\n",
    "y_test = scaled_alldataCu_y[training_size:, :]\n",
    "print(len(testx_df))\n",
    "print(len(y_test))"
   ]
  },
  {
   "cell_type": "code",
   "execution_count": null,
   "id": "7bbe94a4-0241-4c71-a533-cd47cd67ee12",
   "metadata": {
    "tags": []
   },
   "outputs": [],
   "source": [
    "display(trainx_df)"
   ]
  },
  {
   "cell_type": "code",
   "execution_count": null,
   "id": "bb477a17-03ca-47f3-84c6-e863a414edc2",
   "metadata": {
    "tags": []
   },
   "outputs": [],
   "source": [
    "#説明変数データフレーム全体のテンソル化 テストデータも行う\n",
    "x_train = tf.convert_to_tensor(trainx_df)\n",
    "x_test = tf.convert_to_tensor(testx_df)"
   ]
  },
  {
   "cell_type": "code",
   "execution_count": null,
   "id": "7802ba76-38a2-43a5-967c-25ba393b39f2",
   "metadata": {
    "tags": []
   },
   "outputs": [],
   "source": [
    "print(x_train)\n",
    "print(x_test)"
   ]
  },
  {
   "cell_type": "code",
   "execution_count": null,
   "id": "8a53ef66-8c4b-4140-9e65-6c747538bff7",
   "metadata": {
    "tags": []
   },
   "outputs": [],
   "source": [
    "#show shape of train data\n",
    "x_train.shape"
   ]
  },
  {
   "cell_type": "code",
   "execution_count": null,
   "id": "d9821cf2-82ed-428c-a770-81457648b859",
   "metadata": {
    "tags": []
   },
   "outputs": [],
   "source": [
    "y_train.shape"
   ]
  },
  {
   "cell_type": "code",
   "execution_count": null,
   "id": "f87207ab-38d3-493e-b293-0a97527d6ba4",
   "metadata": {
    "tags": []
   },
   "outputs": [],
   "source": [
    "#show shape of test data\n",
    "x_test.shape"
   ]
  },
  {
   "cell_type": "code",
   "execution_count": null,
   "id": "858d9527-cd58-4d8a-bff7-bace510497fb",
   "metadata": {
    "tags": []
   },
   "outputs": [],
   "source": [
    "#import keras libraries for the model\n",
    "import math\n",
    "from keras.models import Sequential\n",
    "from keras.layers import Dense,Activation,Input\n",
    "from keras.utils.vis_utils import plot_model\n",
    "from keras.metrics import RootMeanSquaredError as rmse\n",
    "from keras import optimizers\n",
    "from sklearn.metrics import mean_absolute_error, mean_squared_error, r2_score"
   ]
  },
  {
   "cell_type": "code",
   "execution_count": null,
   "id": "587ae67e-ccbf-4ff0-a7b5-822dab94f483",
   "metadata": {
    "tags": []
   },
   "outputs": [],
   "source": [
    "#グローバル変数\n",
    "epochs = 100\n",
    "batch_size = 8"
   ]
  },
  {
   "cell_type": "code",
   "execution_count": null,
   "id": "fbf8e706-057b-4358-90e0-1b498f9b5817",
   "metadata": {
    "tags": []
   },
   "outputs": [],
   "source": [
    "#define the model\n",
    "model = Sequential()\n",
    "model.add(Input(shape=(len(trainx_df.columns),)))\n",
    "model.add(Dense(units=128, activation=\"relu\"))\n",
    "model.add(Dense(units=128, activation=\"relu\"))\n",
    "model.add(Dense(units=128, activation=\"relu\"))\n",
    "model.add(Dense(units=1, activation=\"linear\"))\n",
    "model.compile(optimizer='adam', loss= 'mse' , metrics = [rmse()])"
   ]
  },
  {
   "cell_type": "code",
   "execution_count": null,
   "id": "67cca68a-b36b-4e48-9641-b405e23ee3cd",
   "metadata": {
    "tags": []
   },
   "outputs": [],
   "source": [
    "#show model\n",
    "model.summary()"
   ]
  },
  {
   "cell_type": "code",
   "execution_count": null,
   "id": "ff8683ef-b1d6-4fa5-9366-71559e4fd92e",
   "metadata": {
    "tags": []
   },
   "outputs": [],
   "source": [
    "#measure time\n",
    "import time \n",
    "time_calc_start = time.time()\n",
    "\n",
    "#fit model\n",
    "epochs = 100\n",
    "history=model.fit(x_train,y_train,epochs=epochs,validation_data=(x_test,y_test),batch_size=batch_size,verbose=1)\n",
    "\n",
    "#calculate time\n",
    "fit_time_seconds = time.time() - time_calc_start\n",
    "print(\"fit time =\",fit_time_seconds,\" seconds.\")"
   ]
  },
  {
   "cell_type": "code",
   "execution_count": null,
   "id": "26141a85-17de-4348-9701-e467f61a1490",
   "metadata": {
    "tags": []
   },
   "outputs": [],
   "source": [
    "model.summary()"
   ]
  },
  {
   "cell_type": "code",
   "execution_count": null,
   "id": "41bcb5ab-c285-4c75-a114-cc9f31a7bcf7",
   "metadata": {
    "tags": []
   },
   "outputs": [],
   "source": [
    "#evaluate training data\n",
    "model.evaluate(x_train,y_train, batch_size = batch_size)"
   ]
  },
  {
   "cell_type": "code",
   "execution_count": null,
   "id": "c8ff51af-7052-4955-aac9-17b8d70bf55a",
   "metadata": {
    "tags": []
   },
   "outputs": [],
   "source": [
    "#evaluate testing data\n",
    "model.evaluate(x_test,y_test, batch_size = batch_size)"
   ]
  },
  {
   "cell_type": "code",
   "execution_count": null,
   "id": "d96c93fe-2bad-4ecf-be36-9e8b09d1e21d",
   "metadata": {
    "tags": []
   },
   "outputs": [],
   "source": [
    "#prediction using training data\n",
    "train_predict = model.predict(x_train)\n",
    "plot_y_train = y_train.reshape(-1,1)\n",
    "\n",
    "\n",
    "# 予測結果と正解ラベルを用いてR2スコアを計算\n",
    "r2train = r2_score(yscaler.inverse_transform(plot_y_train), yscaler.inverse_transform(train_predict))\n",
    "\n",
    "# R2スコアを表示\n",
    "print(\"R2スコア:\", r2train)"
   ]
  },
  {
   "cell_type": "code",
   "execution_count": null,
   "id": "04fd6177-20d0-4bc3-a968-6791dbc4d8e3",
   "metadata": {
    "tags": []
   },
   "outputs": [],
   "source": [
    "plt.rcParams[\"figure.figsize\"] = [8.0,8.0]"
   ]
  },
  {
   "cell_type": "code",
   "execution_count": null,
   "id": "36db325d-b7c7-4b93-b494-72073a149cef",
   "metadata": {
    "tags": []
   },
   "outputs": [],
   "source": [
    "#show actual vs predicted (training) graph\n",
    "plt.scatter(x = yscaler.inverse_transform(plot_y_train), y = yscaler.inverse_transform(train_predict))\n",
    "plt.title(\"Cu train\")\n",
    "plt.xlabel(\"tc\")\n",
    "plt.ylabel(\"tc_pred\")\n",
    "plt.xlim(-10, 300)  # x 軸の範囲を指定\n",
    "plt.ylim(-10, 200)  # y 軸の範囲を指定\n",
    "plt.show()"
   ]
  },
  {
   "cell_type": "code",
   "execution_count": null,
   "id": "6a92cb10-8235-45e8-be38-ae72d8c0200b",
   "metadata": {
    "tags": []
   },
   "outputs": [],
   "source": [
    "#prediction using testing data\n",
    "test_predict = model.predict(x_test)\n",
    "plot_y_test = y_test.reshape(-1,1)\n",
    "\n",
    "# 予測結果と正解ラベルを用いてR2スコアを計算\n",
    "r2test = r2_score(yscaler.inverse_transform(plot_y_test), yscaler.inverse_transform(test_predict))\n",
    "\n",
    "# R2スコアを表示\n",
    "print(\"R2スコア:\", r2test)"
   ]
  },
  {
   "cell_type": "code",
   "execution_count": null,
   "id": "a4ef9066-0db5-49c2-8882-37c428e6284e",
   "metadata": {
    "tags": []
   },
   "outputs": [],
   "source": [
    "#show actual vs predicted (training) graph\n",
    "plt.scatter(x = yscaler.inverse_transform(plot_y_test), y = yscaler.inverse_transform(test_predict))\n",
    "plt.title(\"Cu test\")\n",
    "plt.xlabel(\"tc\")\n",
    "plt.ylabel(\"tc_pred\")\n",
    "plt.xlim(-10, 200)  # x 軸の範囲を指定\n",
    "plt.ylim(-10, 200)  # y 軸の範囲を指定\n",
    "plt.show()"
   ]
  },
  {
   "cell_type": "code",
   "execution_count": null,
   "id": "28f4f666-ef7f-4a34-9758-bc217a764f89",
   "metadata": {
    "tags": []
   },
   "outputs": [],
   "source": [
    "ytestactual = pd.DataFrame(yscaler.inverse_transform(plot_y_test), columns = [\"tc\"])\n",
    "ypredicted = pd.DataFrame(yscaler.inverse_transform(test_predict), columns = [\"tc_pred\"])\n",
    "\n",
    "resultdf = pd.concat([ytestactual, ypredicted], axis = \"columns\")"
   ]
  },
  {
   "cell_type": "code",
   "execution_count": null,
   "id": "7496908b-0048-4278-becd-cbabb92d7457",
   "metadata": {},
   "outputs": [],
   "source": [
    "mae = mean_absolute_error(resultdf[\"tc\"], resultdf[\"tc_pred\"])\n",
    "\n",
    "# 散布図の作成\n",
    "sns.lmplot(x = \"tc\", y = \"tc_pred\", data=resultdf, markers = \".\", height=6, aspect=1.5, ci=None)\n",
    "\n",
    "# 傾きの表示\n",
    "plt.annotate(\"傾き          = {}\".format(round(resultdf[\"tc_pred\"].corr(resultdf[\"tc\"]), 3)), xy=(0, 0), xytext=(-5, 100), fontsize=24)\n",
    "plt.annotate(\"R2スコア　    = {}\".format(round(r2test, 3)), xy=(0,0), xytext=(-5, 110), fontsize=24)\n",
    "plt.annotate(\"平均絶対誤差　= {}\".format(round(mae, 3)), xy=(0,0), xytext=(-5, 120), fontsize=24)\n",
    "\n",
    "plt.title(\"NN　銅酸化物系超伝導体\", fontsize=24)\n",
    "\n",
    "# グラフの表示\n",
    "plt.show()"
   ]
  },
  {
   "cell_type": "code",
   "execution_count": null,
   "id": "06f79009-9124-4568-a9b4-58a60160f4c1",
   "metadata": {},
   "outputs": [],
   "source": []
  }
 ],
 "metadata": {
  "kernelspec": {
   "display_name": "Python 3 (ipykernel)",
   "language": "python",
   "name": "python3"
  },
  "language_info": {
   "codemirror_mode": {
    "name": "ipython",
    "version": 3
   },
   "file_extension": ".py",
   "mimetype": "text/x-python",
   "name": "python",
   "nbconvert_exporter": "python",
   "pygments_lexer": "ipython3",
   "version": "3.9.16"
  }
 },
 "nbformat": 4,
 "nbformat_minor": 5
}
