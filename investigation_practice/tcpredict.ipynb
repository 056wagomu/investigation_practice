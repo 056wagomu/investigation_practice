{
 "cells": [
  {
   "cell_type": "code",
   "execution_count": null,
   "id": "0003e0ac-0816-4605-b6ef-f86e7b42afd3",
   "metadata": {
    "tags": []
   },
   "outputs": [],
   "source": [
    "#ライブラリ読み込み\n",
    "#データ読み込み\n",
    "import numpy as np\n",
    "import pandas as pd\n",
    "import lightgbm as lgb\n",
    "df = pd.read_csv(\"materialdata_lastver.csv\", encoding = \"utf-8\", low_memory = False)\n",
    "pd.set_option('display.max_columns',200)\n",
    "pd.set_option(\"display.max_rows\", 200)\n",
    "from sklearn.ensemble import BaggingRegressor\n",
    "from sklearn.preprocessing import LabelEncoder\n",
    "from sklearn.model_selection import cross_validate, cross_val_predict, KFold\n",
    "from numba import njit\n",
    "\n",
    "import matplotlib.pyplot as plt\n",
    "import seaborn as sns\n",
    "\n",
    "import pydot\n",
    "import graphviz\n",
    "\n",
    "import pickle\n",
    "\n",
    "#スペースアリはYとS\n",
    "#大文字被りがLI\n",
    "#原子の数が0になっているのが複数あったので消去\n",
    "#Yoという謎原子があったので消去\n",
    "#O6050という異常値があるがデータ生成の段階では影響がないと判断\n",
    "#Nd185があったのでNd1.85に訂正(周囲にNd1.85のデータがあったため)\n",
    "#O1013があったのでO10.13に訂正(周囲にO10.XXのデータがあったため)\n",
    "#Cu285があったのでCu2.85に訂正(周囲にCu2.85のデータがあったため)"
   ]
  },
  {
   "cell_type": "code",
   "execution_count": null,
   "id": "4cd47275-edf6-4c22-a4dd-c1ee89d82b01",
   "metadata": {
    "tags": []
   },
   "outputs": [],
   "source": [
    "display(df)"
   ]
  },
  {
   "cell_type": "code",
   "execution_count": null,
   "id": "547faf60-6b81-4a34-8193-3ad5d37b7296",
   "metadata": {
    "tags": []
   },
   "outputs": [],
   "source": [
    "df_tcshaped = df.dropna(subset = [\"tc\"], axis = \"index\").dropna(subset = [\"str3\"], axis = \"index\").reset_index(drop = True)"
   ]
  },
  {
   "cell_type": "code",
   "execution_count": null,
   "id": "e066d77c-d282-4bd0-a081-ba55b847c491",
   "metadata": {
    "tags": []
   },
   "outputs": [],
   "source": [
    "print(df_tcshaped[\"year\"].isnull().sum())"
   ]
  },
  {
   "cell_type": "code",
   "execution_count": null,
   "id": "bbe7759a-58fc-44e5-a1d1-10ae6eb32fc3",
   "metadata": {
    "tags": []
   },
   "outputs": [],
   "source": [
    "print(df_tcshaped[\"tc\"].isnull().sum())"
   ]
  },
  {
   "cell_type": "code",
   "execution_count": null,
   "id": "f5c57d59-010c-4d4d-b6a5-66f5b1fa22ef",
   "metadata": {
    "tags": []
   },
   "outputs": [],
   "source": [
    "X_tcshaped = pd.concat([df_tcshaped.loc[:, \"ma1\":\"mo1\"], df_tcshaped[\"str3\"]], axis = \"columns\")\n",
    "\n",
    "display(X_tcshaped)"
   ]
  },
  {
   "cell_type": "code",
   "execution_count": null,
   "id": "8d3b8140-0748-410c-8597-6c4c85df0e39",
   "metadata": {
    "tags": []
   },
   "outputs": [],
   "source": [
    "y = df_tcshaped[\"tc\"].astype(float)"
   ]
  },
  {
   "cell_type": "code",
   "execution_count": null,
   "id": "cdc810c4-eef3-488f-8b45-8a62a20d7ef4",
   "metadata": {
    "tags": []
   },
   "outputs": [],
   "source": [
    "y = pd.DataFrame(y)\n",
    "y[\"tc_pred\"] = None\n",
    "\n",
    "display(y)"
   ]
  },
  {
   "cell_type": "code",
   "execution_count": null,
   "id": "77b6f4f0-a807-4571-9dd9-f65d9801720b",
   "metadata": {
    "tags": []
   },
   "outputs": [],
   "source": [
    "#ダミー変数の作成今回は結晶構造を変更\n",
    "encoder = LabelEncoder()\n",
    "array_dummiedcrystal = encoder.fit_transform(X_tcshaped[\"str3\"])"
   ]
  },
  {
   "cell_type": "code",
   "execution_count": null,
   "id": "5382f3a6-98b4-4e8c-8264-9cc31ca01b87",
   "metadata": {
    "tags": []
   },
   "outputs": [],
   "source": [
    "df_dummiedcrystal = pd.DataFrame(array_dummiedcrystal, columns = [\"name of structure\"])"
   ]
  },
  {
   "cell_type": "code",
   "execution_count": null,
   "id": "6dc9373c-50dc-4160-a1a8-9cdc26d21c29",
   "metadata": {
    "tags": []
   },
   "outputs": [],
   "source": [
    "X_withstr = pd.concat([X_tcshaped, df_dummiedcrystal], axis = \"columns\").drop([\"str3\"], axis = \"columns\")"
   ]
  },
  {
   "cell_type": "code",
   "execution_count": null,
   "id": "ec112831-aa01-4f2f-910e-6aafd1003267",
   "metadata": {
    "tags": []
   },
   "outputs": [],
   "source": [
    "df_oxygendummies = pd.get_dummies(X_withstr[\"mo1\"])\n",
    "df_oxygendummies = df_oxygendummies.rename(columns = {\"O\" : \"Oarinashi\"})\n",
    "X_data = pd.concat([X_withstr, df_oxygendummies], axis = \"columns\").drop([\"mo1\"], axis = \"columns\")"
   ]
  },
  {
   "cell_type": "code",
   "execution_count": null,
   "id": "fde187f1-4af5-4bba-95b0-f77f94255753",
   "metadata": {
    "tags": []
   },
   "outputs": [],
   "source": [
    "print(len(X_data))"
   ]
  },
  {
   "cell_type": "code",
   "execution_count": null,
   "id": "fc06fe5f-7a7e-47b7-8960-767be0c50fd8",
   "metadata": {
    "tags": []
   },
   "outputs": [],
   "source": [
    "allmat = set(X_data['ma1'].unique().tolist() + X_data['mb1'].unique().tolist() + X_data['mc1'].unique().tolist() + X_data['md1'].unique().tolist() + X_data['me1'].unique().tolist() + X_data['mf1'].unique().tolist() + X_data['mg1'].unique().tolist() + X_data['mh1'].unique().tolist() + X_data['mi1'].unique().tolist() + X_data['mj1'].unique().tolist())"
   ]
  },
  {
   "cell_type": "code",
   "execution_count": null,
   "id": "8cf61368-1100-4513-abda-e7c97a631eec",
   "metadata": {
    "tags": []
   },
   "outputs": [],
   "source": [
    "allmateriallist = list(allmat)\n",
    "\n",
    "print(allmateriallist)"
   ]
  },
  {
   "cell_type": "code",
   "execution_count": null,
   "id": "cec88609-56f1-4f1a-a07d-fa9d5a2cfd1e",
   "metadata": {
    "tags": []
   },
   "outputs": [],
   "source": [
    "\"\"\"del allmateriallist[0]\n",
    "\n",
    "print(allmateriallist)\"\"\""
   ]
  },
  {
   "cell_type": "code",
   "execution_count": null,
   "id": "2f57072b-ab12-49e0-ab26-7cde71b1d5f9",
   "metadata": {
    "tags": []
   },
   "outputs": [],
   "source": [
    "#print(len(allmateriallist))"
   ]
  },
  {
   "cell_type": "markdown",
   "id": "75047698-21da-46f6-b91e-e7c70ee48899",
   "metadata": {},
   "source": [
    "allmateriallistについて再起動ごとに順序が入れ替わる(delに影響が出る)のでpklで保存"
   ]
  },
  {
   "cell_type": "code",
   "execution_count": null,
   "id": "c5521aa7-2d46-4b65-8b36-b3caf8235be7",
   "metadata": {
    "tags": []
   },
   "outputs": [],
   "source": [
    "### pickleで保存（書き出し）\n",
    "\"\"\"with open('allmateriallist.pkl', mode='wb') as fo:\n",
    "    pickle.dump(allmateriallist, fo)\"\"\""
   ]
  },
  {
   "cell_type": "code",
   "execution_count": null,
   "id": "5e66fab4-11af-4346-9fa1-975b893fa4ae",
   "metadata": {
    "tags": []
   },
   "outputs": [],
   "source": [
    "### pickleで保存したファイルを読み込み\n",
    "with open('allmateriallist.pkl', mode='br') as fi:\n",
    "    allmateriallist = pickle.load(fi)"
   ]
  },
  {
   "cell_type": "code",
   "execution_count": null,
   "id": "3580376d-2ea8-4a78-ae07-b03086452b27",
   "metadata": {
    "tags": []
   },
   "outputs": [],
   "source": [
    "print(allmateriallist)"
   ]
  },
  {
   "cell_type": "code",
   "execution_count": null,
   "id": "d391fc75-4602-49e6-a60b-96269f668f84",
   "metadata": {
    "tags": []
   },
   "outputs": [],
   "source": [
    "test = {'Nd':1, 'Br':2, 'C':3, 'No':4, 'U':5, 'Te':6, 'H':7, 'Np':8, 'Ho':9, 'Al':10, 'In':11, 'Mo':12, 'O':13, 'Cl':14, 'As':15, 'Ta':16, 'M':17, 'Fe':18, 'Yb':19, 'Ca':20, 'Y':21, 'Th':22, 'La':23, 'Sn':24, 'Hf':25, 'P':26, 'S ':27, 'Ce':28, 'Na':29, 'Li':30, 'Ag':31, 'Mn':32, 'Zr':33, 'Rh':34, 'B':35, 'Tl':36, 'Sm':37, 'Be':38, 'Cu':39, 'S':27, 'Sc':28, 'V':29, 'Bi':30, 'Ga':31, 'F':32, 'Er':33, 'Ni':34, 'D':35, 'Zn':36, 'Tb':37, 'Py':38, 'Cs':39, 'Os':40, 'Hg':41, 'Ru':42, 'Pt':43, 'I':44, 'Pr':45, 'Au':46, 'Ir':47, 'Tm':48, 'Re':49, 'Co':50, 'Nb':51, 'N':52, 'Am':53, 'Mg':54, 'Pc':55, 'Tc':56, 'Se':57, 'Ba':58, 'Ti':59, 'Cd':60, 'Gd':61, 'LI':30, 'Pu':63, 'Pd':64, 'W':65, 'Rb':66, 'Pb':67, 'Si':68, 'Ge':69, 'Lu':70, 'Cr':71, 'Y ':21, 'Sb':73, 'Sr':74, 'Dy':75, 'Eu':76, 'K':77}"
   ]
  },
  {
   "cell_type": "code",
   "execution_count": null,
   "id": "1995cdfa-9b53-418b-a4f8-3e9d2eaafa05",
   "metadata": {
    "tags": []
   },
   "outputs": [],
   "source": [
    "#上データはM、Y ,S ,LIを含んでいる"
   ]
  },
  {
   "cell_type": "code",
   "execution_count": null,
   "id": "6fe68eb1-2062-4fa6-bf72-2a3fed13b82c",
   "metadata": {
    "tags": []
   },
   "outputs": [],
   "source": [
    "testkeys = list(test.keys())\n",
    "print(len(testkeys))"
   ]
  },
  {
   "cell_type": "code",
   "execution_count": null,
   "id": "fcfc1591-a488-45a6-8b8b-436fb5d48fc1",
   "metadata": {
    "tags": []
   },
   "outputs": [],
   "source": [
    "dataindexamount = list(range(len(X_data)))\n",
    "\n",
    "materialsdf = pd.DataFrame(columns = allmateriallist, index = dataindexamount)"
   ]
  },
  {
   "cell_type": "code",
   "execution_count": null,
   "id": "009e76d2-1aa6-41cb-860f-b8edde2fec65",
   "metadata": {
    "tags": []
   },
   "outputs": [],
   "source": [
    "X_data = pd.concat([X_data, materialsdf], axis = \"columns\")\n",
    "\n",
    "display(X_data)"
   ]
  },
  {
   "cell_type": "code",
   "execution_count": null,
   "id": "5137c50c-52bc-4894-a6e5-694815cc2bd5",
   "metadata": {
    "tags": []
   },
   "outputs": [],
   "source": [
    "m1df = 10\n",
    "for i in range(len(allmateriallist)): #各原子種類列インデックスごと\n",
    "    for j in X_data.index: #各原子種類列インデックスごとの中の各行について\n",
    "        for k in range(m1df): #各原子種類列インデックスごとの中の各行について、ma1、mb1と順々に処理\n",
    "            if X_data.iloc[j, 2*k] == allmateriallist[i]: #ma1,mb1...ごとに書かれている原子名と一致する原子列において\n",
    "                X_data.iloc[j, 22+i] = X_data.iloc[j, (2*k+1)] #上記の一致列に具体的な原子の数を代入する\n",
    "        \n",
    "\n",
    "display(X_data)"
   ]
  },
  {
   "cell_type": "code",
   "execution_count": null,
   "id": "abd95508-7c40-4c9d-af3d-51a2d6e38786",
   "metadata": {
    "tags": []
   },
   "outputs": [],
   "source": [
    "X_data.to_pickle(\"X_data.pkl\")"
   ]
  },
  {
   "cell_type": "code",
   "execution_count": null,
   "id": "590181a9-2411-4c66-89a8-9dda18bfa332",
   "metadata": {
    "tags": []
   },
   "outputs": [],
   "source": [
    "X_data = pd.read_pickle(\"X_data.pkl\")"
   ]
  },
  {
   "cell_type": "code",
   "execution_count": null,
   "id": "de184952-2001-4a3d-a3d1-0061643bfb4d",
   "metadata": {
    "tags": []
   },
   "outputs": [],
   "source": [
    "#用いるのはX_dataのname of structure以降のdataをXinput、y_tcshapedをyinput"
   ]
  },
  {
   "cell_type": "code",
   "execution_count": null,
   "id": "abbd948a-4dfa-4055-a36f-cc81c1563a08",
   "metadata": {
    "tags": []
   },
   "outputs": [],
   "source": [
    "Xinput = X_data.loc[:, \"name of structure\":]\n",
    "display(Xinput)"
   ]
  },
  {
   "cell_type": "code",
   "execution_count": null,
   "id": "2112b39f-0fc3-4fc3-b4e5-aebc5ab14bb2",
   "metadata": {
    "tags": []
   },
   "outputs": [],
   "source": [
    "alldata = pd.concat([Xinput, y[\"tc\"]], axis = \"columns\")\n",
    "alldata.to_pickle(\"alldata.pkl\")"
   ]
  },
  {
   "cell_type": "code",
   "execution_count": null,
   "id": "ff211d18-5901-4be9-8022-3dd606c1e320",
   "metadata": {
    "tags": []
   },
   "outputs": [],
   "source": [
    "alldata = pd.read_pickle(\"alldata.pkl\")\n",
    "\n",
    "# LightGBM回帰器のインスタンスを作成\n",
    "model = lgb.LGBMRegressor()\n",
    "\n",
    "params = {\n",
    "        \"n_jobs\" : \"-1\", \n",
    "        \"random_state\" : \"1\", \n",
    "        \"extra_trees\" : True\n",
    "        }\n",
    "\n",
    "model.set_params(**params)\n",
    "\n",
    "#バギングの有無\n",
    "model = BaggingRegressor(model, random_state=1, n_jobs=1)\n",
    "\n",
    "# 評価指標の設定\n",
    "score_funcs = [\"neg_mean_squared_error\", \"neg_mean_absolute_error\", \"r2\"]\n",
    "\n",
    "X = alldata.iloc[:, :(len(alldata.columns)-1)]\n",
    "\n",
    "for i in range(len(allmateriallist)):\n",
    "    X[allmateriallist[i]] = X[allmateriallist[i]].astype(float)\n",
    "\n",
    "y = alldata.loc[:, \"tc\"]\n",
    "\n",
    "# 通常のCV\n",
    "cv_indicies = list(KFold().split(alldata))\n",
    "\n",
    "# OOS予測値を計算\n",
    "def my_cross_val_predict(estimator, X, y=None, cv=None):\n",
    "    y_pred = y.copy()\n",
    "    y_pred[:] = np.nan\n",
    "    for train_idx, val_idx in cv:\n",
    "        estimator.fit(X[train_idx], y[train_idx])\n",
    "        y_pred[val_idx] = estimator.predict(X[val_idx])\n",
    "    return y_pred\n",
    "\n",
    "alldata[\"tc_pred\"] = None\n",
    "\n",
    "alldata[\"tc_pred\"] = my_cross_val_predict(model, X.values, y.values, cv=cv_indicies)\n",
    "\n",
    "# 交差検証を実行\n",
    "score = cross_validate(model, X, y, cv=cv_indicies, scoring=score_funcs, return_estimator=True)\n",
    "\n",
    "# 平均二乗誤差の平均値を出力\n",
    "print(score[\"test_neg_mean_squared_error\"].mean())\n",
    "print(score[\"test_neg_mean_absolute_error\"].mean())\n",
    "print(score[\"test_r2\"].mean())"
   ]
  },
  {
   "cell_type": "code",
   "execution_count": null,
   "id": "8df3c5a0-2014-4557-80f7-71702c864216",
   "metadata": {
    "tags": []
   },
   "outputs": [],
   "source": [
    "# 散布図の作成\n",
    "sns.lmplot(x=\"tc\", y=\"tc_pred\", data=alldata, markers = \".\", height=6, aspect=1.5)\n",
    "\n",
    "# 傾きの表示\n",
    "plt.annotate(\"傾き          = {}\".format(round(alldata[\"tc_pred\"].corr(alldata[\"tc\"]), 3)), xy=(0, 0), xytext=(20, 160), fontsize=24)\n",
    "plt.annotate(\"R2スコア　    = {}\".format(round(score[\"test_r2\"].mean(), 3)), xy=(0,0), xytext=(20, 180), fontsize=24)\n",
    "plt.annotate(\"平均絶対誤差　= {}\".format(round(score[\"test_neg_mean_absolute_error\"].mean(), 3)), xy=(0,0), xytext=(20, 200), fontsize=24)\n",
    "\n",
    "plt.title(\"GBDT　全データ\", fontsize=24)\n",
    "\n",
    "# グラフの表示\n",
    "plt.show()"
   ]
  },
  {
   "cell_type": "code",
   "execution_count": null,
   "id": "17b749e4-7d50-4121-a71f-1b24e94f5c6e",
   "metadata": {
    "tags": []
   },
   "outputs": [],
   "source": [
    "dousankabutsu = ((alldata[\"Oarinashi\"] == 1) & (alldata[\"Cu\"].notnull()))\n",
    "tetsu = ((alldata[\"Fe\"].notnull()) & ((alldata[\"Oarinashi\"] != 1) | (alldata[\"Cu\"].isnull())))\n",
    "nokori = ~ (dousankabutsu | tetsu)\n",
    "\n",
    "alldataCu = alldata.loc[dousankabutsu, :]#鉄系超伝導体を得るために、鉄がありかつ銅と酸素が一緒にないものを得る\n",
    "alldataFe = alldata.loc[tetsu, :]\n",
    "alldatawithoutCuFe = alldata.loc[nokori, :]\n",
    "display(alldataFe)\n",
    "display(alldataCu)\n",
    "print(alldataCu[\"Oarinashi\"].value_counts())\n",
    "display(alldatawithoutCuFe)\n",
    "print(len(alldataCu) + len(alldataFe) + len(alldatawithoutCuFe))\n",
    "\n",
    "alldataCu.to_pickle(\"alldataCu.pkl\")\n",
    "alldataFe.to_pickle(\"alldataFe.pkl\")\n",
    "alldatawithoutCuFe.to_pickle(\"alldatawithoutCuFe.pkl\")"
   ]
  },
  {
   "cell_type": "code",
   "execution_count": null,
   "id": "d5a1c3eb-69f0-49b8-a0ed-393505d47526",
   "metadata": {
    "tags": []
   },
   "outputs": [],
   "source": [
    "alldataCu = pd.read_pickle(\"alldataCu.pkl\")\n",
    "\n",
    "# LightGBM回帰器のインスタンスを作成\n",
    "model = lgb.LGBMRegressor()\n",
    "\n",
    "params = {\n",
    "        \"n_jobs\" : \"-1\", \n",
    "        \"random_state\" : \"1\", \n",
    "        \"extra_trees\" : True\n",
    "        }\n",
    "\n",
    "model.set_params(**params)\n",
    "\n",
    "#バギングの有無\n",
    "model = BaggingRegressor(model, random_state=1, n_jobs=1)\n",
    "\n",
    "# 評価指標の設定\n",
    "score_funcs = [\"neg_mean_squared_error\", \"neg_mean_absolute_error\", \"r2\"]\n",
    "\n",
    "X = alldataCu.iloc[:, :(len(alldataCu.columns)-1)]\n",
    "\n",
    "for i in range(len(allmateriallist)):\n",
    "    X[allmateriallist[i]] = X[allmateriallist[i]].astype(float)\n",
    "\n",
    "y = alldataCu.loc[:, \"tc\"]\n",
    "\n",
    "# 通常のCV\n",
    "cv_indicies = list(KFold().split(alldataCu))\n",
    "\n",
    "# OOS予測値を計算\n",
    "def my_cross_val_predict(estimator, X, y=None, cv=None):\n",
    "    y_pred = y.copy()\n",
    "    y_pred[:] = np.nan\n",
    "    for train_idx, val_idx in cv:\n",
    "        estimator.fit(X[train_idx], y[train_idx])\n",
    "        y_pred[val_idx] = estimator.predict(X[val_idx])\n",
    "    return y_pred\n",
    "\n",
    "alldataCu[\"tc_pred\"] = None\n",
    "\n",
    "alldataCu[\"tc_pred\"] = my_cross_val_predict(model, X.values, y.values, cv=cv_indicies)\n",
    "\n",
    "# 交差検証を実行\n",
    "score = cross_validate(model, X, y, cv=cv_indicies, scoring=score_funcs, return_estimator=True)\n",
    "\n",
    "#モデルの詳細構造を出力\n",
    "#model.fit(X, y)\n",
    "#lgb.plot_tree(booster = model, figsize = (24, 16))\n",
    "\n",
    "# 平均二乗誤差の平均値を出力\n",
    "print(score[\"test_neg_mean_squared_error\"].mean())\n",
    "print(score[\"test_neg_mean_absolute_error\"].mean())\n",
    "print(score[\"test_r2\"].mean())"
   ]
  },
  {
   "cell_type": "code",
   "execution_count": null,
   "id": "3ae1a207-0c32-4873-8411-2adc922da894",
   "metadata": {
    "tags": []
   },
   "outputs": [],
   "source": [
    "# 散布図の作成\n",
    "sns.lmplot(x=\"tc\", y=\"tc_pred\", data=alldataCu, markers = \".\", height=6, aspect=1.5)\n",
    "\n",
    "# 傾きの表示\n",
    "plt.annotate(\"傾き          = {}\".format(round(alldataCu[\"tc_pred\"].corr(alldataCu[\"tc\"]), 3)), xy=(0, 0), xytext=(140, 10), fontsize=24)\n",
    "plt.annotate(\"R2スコア　    = {}\".format(round(score[\"test_r2\"].mean(), 3)), xy=(0,0), xytext=(140, 25), fontsize=24)\n",
    "plt.annotate(\"平均絶対誤差　= {}\".format(round(score[\"test_neg_mean_absolute_error\"].mean(), 3)), xy=(0,0), xytext=(140, 40), fontsize=24)\n",
    "\n",
    "plt.title(\"GBDT　銅酸化物系超伝導体\", fontsize=24)\n",
    "\n",
    "# グラフの表示\n",
    "plt.show()"
   ]
  },
  {
   "cell_type": "code",
   "execution_count": null,
   "id": "358d0c4f-d188-4993-9cbd-f730c3fdc592",
   "metadata": {
    "tags": []
   },
   "outputs": [],
   "source": [
    "alldataFe = pd.read_pickle(\"alldataFe.pkl\")\n",
    "\n",
    "# LightGBM回帰器のインスタンスを作成\n",
    "model = lgb.LGBMRegressor()\n",
    "\n",
    "params = {\n",
    "        \"n_jobs\" : \"-1\", \n",
    "        \"random_state\" : \"1\", \n",
    "        \"extra_trees\" : True\n",
    "        }\n",
    "\n",
    "model.set_params(**params)\n",
    "\n",
    "#バギングの有無\n",
    "model = BaggingRegressor(model, random_state=1, n_jobs=1)\n",
    "\n",
    "# 評価指標の設定\n",
    "score_funcs = [\"neg_mean_squared_error\", \"neg_mean_absolute_error\", \"r2\"]\n",
    "\n",
    "X = alldataFe.iloc[:, :(len(alldataFe.columns)-1)]\n",
    "\n",
    "for i in range(len(allmateriallist)):\n",
    "    X[allmateriallist[i]] = X[allmateriallist[i]].astype(float)\n",
    "\n",
    "y = alldataFe.loc[:, \"tc\"]\n",
    "\n",
    "# 通常のCV\n",
    "cv_indicies = list(KFold().split(alldataFe))\n",
    "\n",
    "# OOS予測値を計算\n",
    "def my_cross_val_predict(estimator, X, y=None, cv=None):\n",
    "    y_pred = y.copy()\n",
    "    y_pred[:] = np.nan\n",
    "    for train_idx, val_idx in cv:\n",
    "        estimator.fit(X[train_idx], y[train_idx])\n",
    "        y_pred[val_idx] = estimator.predict(X[val_idx])\n",
    "    return y_pred\n",
    "\n",
    "alldataFe[\"tc_pred\"] = None\n",
    "\n",
    "alldataFe[\"tc_pred\"] = my_cross_val_predict(model, X.values, y.values, cv=cv_indicies)\n",
    "\n",
    "# 交差検証を実行\n",
    "score = cross_validate(model, X, y, cv=cv_indicies, scoring=score_funcs, return_estimator=True)\n",
    "\n",
    "# 平均二乗誤差の平均値を出力\n",
    "print(score[\"test_neg_mean_squared_error\"].mean())\n",
    "print(score[\"test_neg_mean_absolute_error\"].mean())\n",
    "print(score[\"test_r2\"].mean())"
   ]
  },
  {
   "cell_type": "code",
   "execution_count": null,
   "id": "3de1e07a-49e3-47fd-8f7e-5772488a18f3",
   "metadata": {
    "tags": []
   },
   "outputs": [],
   "source": [
    "# 散布図の作成\n",
    "sns.lmplot(x=\"tc\", y=\"tc_pred\", data=alldataFe, markers = \".\", height=6, aspect=1.5, ci=None)\n",
    "\n",
    "# 傾きの表示\n",
    "plt.annotate(\"傾き          = {}\".format(round(alldataFe[\"tc_pred\"].corr(alldataFe[\"tc\"]), 3)), xy=(0, 0), xytext=(30, 120), fontsize=24)\n",
    "plt.annotate(\"R2スコア　    = {}\".format(round(score[\"test_r2\"].mean(), 3)), xy=(0,0), xytext=(30, 132), fontsize=24)\n",
    "plt.annotate(\"平均絶対誤差　= {}\".format(round(score[\"test_neg_mean_absolute_error\"].mean(), 3)), xy=(0,0), xytext=(30, 144), fontsize=24)\n",
    "\n",
    "plt.title(\"GBDT　鉄系超伝導体\", fontsize=24)\n",
    "\n",
    "# グラフの表示\n",
    "plt.show()"
   ]
  },
  {
   "cell_type": "code",
   "execution_count": null,
   "id": "d967249e-985e-4a4e-8e12-db71bfb34f7f",
   "metadata": {
    "tags": []
   },
   "outputs": [],
   "source": [
    "alldatawithoutCuFe = pd.read_pickle(\"alldatawithoutCuFe.pkl\")\n",
    "\n",
    "# LightGBM回帰器のインスタンスを作成\n",
    "model = lgb.LGBMRegressor()\n",
    "\n",
    "params = {\n",
    "        \"n_jobs\" : \"-1\", \n",
    "        \"random_state\" : \"1\", \n",
    "        \"extra_trees\" : True\n",
    "        }\n",
    "\n",
    "model.set_params(**params)\n",
    "\n",
    "#バギングの有無\n",
    "model = BaggingRegressor(model, random_state=1, n_jobs=1)\n",
    "\n",
    "# 評価指標の設定\n",
    "score_funcs = [\"neg_mean_squared_error\", \"neg_mean_absolute_error\", \"r2\"]\n",
    "\n",
    "X = alldatawithoutCuFe.iloc[:, :(len(alldatawithoutCuFe.columns)-1)]\n",
    "\n",
    "for i in range(len(allmateriallist)):\n",
    "    X[allmateriallist[i]] = X[allmateriallist[i]].astype(float)\n",
    "\n",
    "y = alldatawithoutCuFe.loc[:, \"tc\"]\n",
    "\n",
    "# 通常のCV\n",
    "cv_indicies = list(KFold().split(alldatawithoutCuFe))\n",
    "\n",
    "# OOS予測値を計算\n",
    "def my_cross_val_predict(estimator, X, y=None, cv=None):\n",
    "    y_pred = y.copy()\n",
    "    y_pred[:] = np.nan\n",
    "    for train_idx, val_idx in cv:\n",
    "        estimator.fit(X[train_idx], y[train_idx])\n",
    "        y_pred[val_idx] = estimator.predict(X[val_idx])\n",
    "    return y_pred\n",
    "\n",
    "alldatawithoutCuFe[\"tc_pred\"] = None\n",
    "\n",
    "alldatawithoutCuFe[\"tc_pred\"] = my_cross_val_predict(model, X.values, y.values, cv=cv_indicies)\n",
    "\n",
    "# 交差検証を実行\n",
    "score = cross_validate(model, X, y, cv=cv_indicies, scoring=score_funcs, return_estimator=True)\n",
    "\n",
    "# 平均二乗誤差の平均値を出力\n",
    "print(score[\"test_neg_mean_squared_error\"].mean())\n",
    "print(score[\"test_neg_mean_absolute_error\"].mean())\n",
    "print(score[\"test_r2\"].mean())"
   ]
  },
  {
   "cell_type": "code",
   "execution_count": null,
   "id": "fefffe30-aad7-4634-9b5e-72dd16b9496e",
   "metadata": {
    "tags": []
   },
   "outputs": [],
   "source": [
    "# 散布図の作成\n",
    "sns.lmplot(x=\"tc\", y=\"tc_pred\", data=alldatawithoutCuFe, markers = \".\", height=6, aspect=1.5, ci=None)\n",
    "\n",
    "# 傾きの表示\n",
    "plt.annotate(\"傾き          = {}\".format(round(alldatawithoutCuFe[\"tc_pred\"].corr(alldatawithoutCuFe[\"tc\"]), 3)), xy=(0, 0), xytext=(10, 100), fontsize=24)\n",
    "plt.annotate(\"R2スコア　    = {}\".format(round(score[\"test_r2\"].mean(), 3)), xy=(0,0), xytext=(10, 112), fontsize=24)\n",
    "plt.annotate(\"平均絶対誤差　= {}\".format(round(score[\"test_neg_mean_absolute_error\"].mean(), 3)), xy=(0,0), xytext=(10, 124), fontsize=24)\n",
    "\n",
    "plt.title(\"GBDT　銅酸化物系・鉄系以外\", fontsize=24)\n",
    "\n",
    "# グラフの表示\n",
    "plt.show()"
   ]
  },
  {
   "cell_type": "code",
   "execution_count": null,
   "id": "099733ed-827d-4391-b6aa-23afb6a4c132",
   "metadata": {},
   "outputs": [],
   "source": []
  }
 ],
 "metadata": {
  "kernelspec": {
   "display_name": "Python 3 (ipykernel)",
   "language": "python",
   "name": "python3"
  },
  "language_info": {
   "codemirror_mode": {
    "name": "ipython",
    "version": 3
   },
   "file_extension": ".py",
   "mimetype": "text/x-python",
   "name": "python",
   "nbconvert_exporter": "python",
   "pygments_lexer": "ipython3",
   "version": "3.9.16"
  }
 },
 "nbformat": 4,
 "nbformat_minor": 5
}
